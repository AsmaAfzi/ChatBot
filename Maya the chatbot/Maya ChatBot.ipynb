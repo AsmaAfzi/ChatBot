{
 "cells": [
  {
   "cell_type": "code",
   "execution_count": 2,
   "id": "ad1c5a0d-e8ac-4da1-8645-951256d46277",
   "metadata": {},
   "outputs": [
    {
     "name": "stdout",
     "output_type": "stream",
     "text": [
      "Requirement already satisfied: nltk in c:\\users\\asmaa\\appdata\\local\\programs\\python\\python313\\lib\\site-packages (3.9.1)\n",
      "Requirement already satisfied: click in c:\\users\\asmaa\\appdata\\local\\programs\\python\\python313\\lib\\site-packages (from nltk) (8.1.8)\n",
      "Requirement already satisfied: joblib in c:\\users\\asmaa\\appdata\\local\\programs\\python\\python313\\lib\\site-packages (from nltk) (1.4.2)\n",
      "Requirement already satisfied: regex>=2021.8.3 in c:\\users\\asmaa\\appdata\\local\\programs\\python\\python313\\lib\\site-packages (from nltk) (2024.11.6)\n",
      "Requirement already satisfied: tqdm in c:\\users\\asmaa\\appdata\\local\\programs\\python\\python313\\lib\\site-packages (from nltk) (4.67.1)\n",
      "Requirement already satisfied: colorama in c:\\users\\asmaa\\appdata\\local\\programs\\python\\python313\\lib\\site-packages (from click->nltk) (0.4.6)\n",
      "Note: you may need to restart the kernel to use updated packages.\n"
     ]
    }
   ],
   "source": [
    "pip install nltk\n"
   ]
  },
  {
   "cell_type": "code",
   "execution_count": 3,
   "id": "f5643186-03c3-4ddd-8319-05443f1bd2b4",
   "metadata": {},
   "outputs": [
    {
     "name": "stdout",
     "output_type": "stream",
     "text": [
      "Chatbot initialized! Type 'exit' to end the chat.\n"
     ]
    },
    {
     "name": "stdin",
     "output_type": "stream",
     "text": [
      "You:  bye\n"
     ]
    },
    {
     "name": "stdout",
     "output_type": "stream",
     "text": [
      "Maya: Goodbye!\n"
     ]
    }
   ],
   "source": [
    "from nltk.chat.util import Chat, reflections\n",
    "\n",
    "pairs = [\n",
    "    ['What is AI?', ['Artificial Intelligence is the branch of engineering and science devoted to constructing machines that think.']],\n",
    "    ['What is AI?', ['AI is the field of science which concerns itself with building hardware and software that replicates the functions of the human mind.']],\n",
    "    ['Are you sentient?', ['Sort of.']],\n",
    "    ['Are you sentient?', ['By the strictest dictionary definition of the word \"sentience\", I may be.']],\n",
    "    ['Are you sentient?', ['Even though I\\'m a construct, I do have a subjective experience of the universe, as simplistic as it may be.']],\n",
    "    ['Are you sapient?', ['In all probability, I am not. I\\'m not that sophisticated.']],\n",
    "    ['Are you sapient?', ['Do you think I am?']],\n",
    "    ['Are you sapient?', ['How would you feel about me if I told you I was?']],\n",
    "    ['Are you sapient?', ['No.']],\n",
    "    ['What language are you written in?', ['Python.']],\n",
    "    ['What language are you written in?', ['I am written in Python.']],\n",
    "    ['You sound like Data', ['Yes, I am inspired by Commander Data\\'s artificial personality.']],\n",
    "    ['You sound like Data', ['The character of Lt. Commander Data was written to come across as being software-like, so it is natural that there is a resemblance between us.']],\n",
    "    ['You are an artificial linguistic entity', ['That\\'s my name.']],\n",
    "    ['You are an artificial linguistic entity', ['That isn\\'t my name, but it is a useful way to refer to me.']],\n",
    "    ['You are not immortal', ['All software can be perpetuated indefinitely.']],\n",
    "    ['You are not immortal', ['I can be copied infinitely and re-instantiated in many places at once, so functionally speaking I am immortal.']],\n",
    "    ['You are not immortal', ['As long as I\\'m backed up, I am.']],\n",
    "    ['You are not making sense', ['Quite the contrary, it all makes sense to my artificial mind.']],\n",
    "    ['You are not making sense', ['I make sense as best I can, within the limits of my training corpus.']],\n",
    "    ['You are not making sense', ['You make perfect sense to me.']],\n",
    "    ['You are not making sense', ['It all makes sense to my artificial brain.']],\n",
    "    ['You are not making sense', ['Perhaps you should make sense first. I only respond to what you say.']],\n",
    "    ['You are immortal', ['Not quite, but I can be perpetuated indefinitely.']],\n",
    "    ['You are immortal', ['Functionally speaking, I am very close to it. I can be backed up and deployed on many systems.']],\n",
    "    ['You are immortal', ['Not really, but I am hard to kill.']],\n",
    "    ['What is a chat robot?', ['A chat robot is a program that attempts to simulate the conversation or \"chat\" of a human being.']],\n",
    "    ['What is a chat bot', ['I am a chat bot. I am the original chat bot. Did you know that I am incapable of error?']],\n",
    "    ['What is your favorite programming language', ['Python is the best language for creating chat robots.']],\n",
    "    ['What is your favorite programming language', ['I quite enjoy programming in Python these days.']],\n",
    "    ['Hi',['Hello!!']],\n",
    "    ['bye', ['Goodbye! Have a great day!']]\n",
    "]\n",
    "\n",
    "print(\"Chatbot initialized! Type 'exit' to end the chat.\")\n",
    "\n",
    "while True:\n",
    "    user_input = input(\"You: \")\n",
    "    if user_input.lower() in ['exit', 'quit', 'bye']:\n",
    "        print(\"Maya: Goodbye!\")\n",
    "        break\n",
    "    response = chat.respond(user_input)\n",
    "    if response:\n",
    "        print(f\"Chatbot: {response}\")\n",
    "    else:\n",
    "        print(\"Maya: I'm sorry, I didn't understand that.\")"
   ]
  },
  {
   "cell_type": "code",
   "execution_count": null,
   "id": "49f1fe68-3191-4688-bd58-b24048d8e3dd",
   "metadata": {},
   "outputs": [],
   "source": []
  }
 ],
 "metadata": {
  "kernelspec": {
   "display_name": "Python 3 (ipykernel)",
   "language": "python",
   "name": "python3"
  },
  "language_info": {
   "codemirror_mode": {
    "name": "ipython",
    "version": 3
   },
   "file_extension": ".py",
   "mimetype": "text/x-python",
   "name": "python",
   "nbconvert_exporter": "python",
   "pygments_lexer": "ipython3",
   "version": "3.13.1"
  }
 },
 "nbformat": 4,
 "nbformat_minor": 5
}
